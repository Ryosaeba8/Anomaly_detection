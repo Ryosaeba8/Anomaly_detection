{
 "cells": [
  {
   "cell_type": "markdown",
   "metadata": {},
   "source": [
    "## Experiments on Deep anomaly detection approaches with synthetics data"
   ]
  },
  {
   "cell_type": "markdown",
   "metadata": {},
   "source": [
    "### Data"
   ]
  },
  {
   "cell_type": "markdown",
   "metadata": {},
   "source": [
    "Here we've generated two 2d dataset :\n",
    "   - The first one is a gaussian distribution with outliers around the axis of the distribution\n",
    "   - The second one is a mixture of 2 gaussians distribution with a small anomaly cluster between the two gaussians points and other anomaly around them\n",
    "   \n",
    "For both data, we included on the testing data new type of anomaly in order to evaluate the generalization power of the tested models."
   ]
  },
  {
   "cell_type": "code",
   "execution_count": null,
   "metadata": {},
   "outputs": [],
   "source": [
    "import plot_mixture()\n",
    "fig, ax = \n",
    "plot_mixture"
   ]
  },
  {
   "cell_type": "markdown",
   "metadata": {},
   "source": [
    "### Configuration"
   ]
  },
  {
   "cell_type": "markdown",
   "metadata": {},
   "source": [
    "- For each of the models, we will go through the learning process and inspect what is the normality learned by the model.\n",
    "- We considered both cases when the training data is contamined (real anomalies are included in the data) and not. All the approaches are trained in an unsupervised configuration. \n",
    "\n",
    "- For Devnet and REPEN we will quickly examined the semi-supervised case."
   ]
  },
  {
   "cell_type": "markdown",
   "metadata": {},
   "source": [
    "### AutoEncoder"
   ]
  },
  {
   "cell_type": "code",
   "execution_count": null,
   "metadata": {},
   "outputs": [],
   "source": []
  },
  {
   "cell_type": "code",
   "execution_count": null,
   "metadata": {},
   "outputs": [],
   "source": []
  }
 ],
 "metadata": {
  "kernelspec": {
   "display_name": "Python 3",
   "language": "python",
   "name": "python3"
  },
  "language_info": {
   "codemirror_mode": {
    "name": "ipython",
    "version": 3
   },
   "file_extension": ".py",
   "mimetype": "text/x-python",
   "name": "python",
   "nbconvert_exporter": "python",
   "pygments_lexer": "ipython3",
   "version": "3.7.3"
  }
 },
 "nbformat": 4,
 "nbformat_minor": 2
}
